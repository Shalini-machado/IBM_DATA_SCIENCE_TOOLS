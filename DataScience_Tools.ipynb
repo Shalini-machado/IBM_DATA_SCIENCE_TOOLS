{
  "metadata": {
    "kernelspec": {
      "name": "python",
      "display_name": "Python (Pyodide)",
      "language": "python"
    },
    "language_info": {
      "codemirror_mode": {
        "name": "python",
        "version": 3
      },
      "file_extension": ".py",
      "mimetype": "text/x-python",
      "name": "python",
      "nbconvert_exporter": "python",
      "pygments_lexer": "ipython3",
      "version": "3.8"
    }
  },
  "nbformat_minor": 5,
  "nbformat": 4,
  "cells": [
    {
      "cell_type": "markdown",
      "source": "# Data Science Tools and Ecosystem",
      "metadata": {},
      "id": "fee4b315"
    },
    {
      "cell_type": "markdown",
      "source": "In this notebook, Data Science Tools and Ecosystem are summarized.",
      "metadata": {},
      "id": "29d9ee2b"
    },
    {
      "cell_type": "markdown",
      "source": "Some of the popular languages that Data Scientists use are:",
      "metadata": {},
      "id": "f8793de9"
    },
    {
      "cell_type": "markdown",
      "source": "- Python\n- R\n- Java",
      "metadata": {},
      "id": "2d48bde1"
    },
    {
      "cell_type": "markdown",
      "source": "Some of the commonly used libraries used by Data Scientists include:",
      "metadata": {},
      "id": "cc00979e"
    },
    {
      "cell_type": "markdown",
      "source": "- Pandas\n- NumPy\n- Sci-kit learn",
      "metadata": {},
      "id": "efe9ed44"
    },
    {
      "cell_type": "markdown",
      "source": "Some of the commonly used tools used by Data Scientists include:",
      "metadata": {},
      "id": "b885485a-f839-4666-b66f-5ded983caedc"
    },
    {
      "cell_type": "markdown",
      "source": "- Tesorflow\n- Matlab\n- SAS",
      "metadata": {},
      "id": "a564c6c2-6099-479a-9f9e-984c7cc23796"
    },
    {
      "cell_type": "markdown",
      "source": "Below are a few examples of evaluating arithmetic expressions in Python",
      "metadata": {},
      "id": "8b68cab7"
    },
    {
      "cell_type": "code",
      "source": "# This a simple arithmetic expression to mutiply then add integers\n\n(3*4)+5",
      "metadata": {},
      "execution_count": 1,
      "outputs": [
        {
          "execution_count": 1,
          "output_type": "execute_result",
          "data": {
            "text/plain": [
              "17"
            ]
          },
          "metadata": {}
        }
      ],
      "id": "b43af446"
    },
    {
      "cell_type": "code",
      "source": "# This will convert 200 minutes to hours by diving by 60\n\n200/60",
      "metadata": {},
      "execution_count": 2,
      "outputs": [
        {
          "execution_count": 2,
          "output_type": "execute_result",
          "data": {
            "text/plain": [
              "3.3333333333333335"
            ]
          },
          "metadata": {}
        }
      ],
      "id": "2f918ef5"
    },
    {
      "cell_type": "markdown",
      "source": "Objectives:",
      "metadata": {},
      "id": "058572fb"
    },
    {
      "cell_type": "markdown",
      "source": "- learned about markdown cells\n- learned about ordered listing\n- learned arithmetic operations",
      "metadata": {},
      "id": "2a28713d"
    },
    {
      "cell_type": "markdown",
      "source": "## Author\n\nShalini E",
      "metadata": {},
      "id": "d1e750e7"
    },
    {
      "cell_type": "code",
      "source": "",
      "metadata": {},
      "execution_count": null,
      "outputs": [],
      "id": "8817e83f"
    }
  ]
}